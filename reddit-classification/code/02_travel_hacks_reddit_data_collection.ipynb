{
 "cells": [
  {
   "cell_type": "code",
   "execution_count": 5,
   "id": "0d0669d7-938d-4c02-8ce1-0ecdae7a721c",
   "metadata": {},
   "outputs": [],
   "source": [
    "\n",
    "#imports\n",
    "import praw\n",
    "import csv\n",
    "import os\n",
    "import time\n",
    "import pandas as pd\n",
    "from datetime import datetime\n"
   ]
  },
  {
   "cell_type": "code",
   "execution_count": 6,
   "id": "1b31e7ba-99c7-485c-9353-e8975c39c5d7",
   "metadata": {},
   "outputs": [],
   "source": [
    "\n",
    "reddit = praw.Reddit()\n"
   ]
  },
  {
   "cell_type": "code",
   "execution_count": 7,
   "id": "6d704336-a956-4376-bd6e-c3c23b988dbf",
   "metadata": {},
   "outputs": [
    {
     "name": "stdout",
     "output_type": "stream",
     "text": [
      "Collected 30 new unique posts.\n"
     ]
    }
   ],
   "source": [
    "\n",
    "# webscrapping using API\n",
    "subreddit = reddit.subreddit('travelhacks')\n",
    "#csv file\n",
    "current_time = datetime.now()\n",
    "csv_file = \"travelhacks_subreddit_cleaned_post.csv\"\n",
    "file_path = os.path.join(\"../data\", csv_file)\n",
    "\n",
    "print(file_path)\n",
    "# Load existing data\n",
    "if os.path.exists(csv_file):\n",
    "    existing_data = pd.read_csv(csv_file)\n",
    "    existing_created_utc = set(existing_data[\"created_utc\"])  \n",
    "else:\n",
    "    existing_created_utc = set()\n",
    "# Collect new posts (only unique posts based on created_utc)\n",
    "travel = []\n",
    "for post in subreddit.hot(limit=30):\n",
    "    if post.created_utc not in existing_created_utc:  \n",
    "        travel.append([post.id, post.created_utc, post.title, post.author, post.selftext, \n",
    "                       post.num_comments, post.score, post.subreddit])\n",
    "        existing_created_utc.add(post.created_utc)  \n",
    "\n",
    "# Save as Dataframe\n",
    "travel_df = pd.DataFrame(travel, columns=['id', 'created_utc', 'title', 'author', 'selftext',\n",
    "                                          'num_comments', 'score', 'subreddit'])\n",
    "# Append new data to the CSV\n",
    "if not travel_df.empty:\n",
    "    travel_df.to_csv(csv_file, mode=\"a\", header=not os.path.exists(csv_file), index=False)\n",
    "\n",
    "print(f\"Collected {len(travel_df)} new unique posts.\")\n"
   ]
  },
  {
   "cell_type": "code",
   "execution_count": 8,
   "id": "5cc7a7df-bc24-4e20-b18f-e442a0a425bb",
   "metadata": {},
   "outputs": [],
   "source": []
  },
  {
   "cell_type": "code",
   "execution_count": null,
   "id": "c4d3394f-6a9e-47db-b3a5-d0c7c824ba29",
   "metadata": {},
   "outputs": [],
   "source": []
  },
  {
   "cell_type": "code",
   "execution_count": null,
   "id": "f49a6049-bbee-4c50-89fa-b85b5e0f5ec6",
   "metadata": {},
   "outputs": [],
   "source": []
  },
  {
   "cell_type": "code",
   "execution_count": null,
   "id": "0d24f98a-4cef-49dd-9c83-1bf1b870de64",
   "metadata": {},
   "outputs": [],
   "source": []
  },
  {
   "cell_type": "code",
   "execution_count": null,
   "id": "f9a934f9-6a8d-47e4-9b2d-99ee9cf68661",
   "metadata": {},
   "outputs": [],
   "source": []
  }
 ],
 "metadata": {
  "kernelspec": {
   "display_name": "Python 3 (ipykernel)",
   "language": "python",
   "name": "python3"
  },
  "language_info": {
   "codemirror_mode": {
    "name": "ipython",
    "version": 3
   },
   "file_extension": ".py",
   "mimetype": "text/x-python",
   "name": "python",
   "nbconvert_exporter": "python",
   "pygments_lexer": "ipython3",
   "version": "3.12.7"
  }
 },
 "nbformat": 4,
 "nbformat_minor": 5
}
