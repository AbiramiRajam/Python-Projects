{
 "cells": [
  {
   "cell_type": "code",
   "execution_count": 5,
   "id": "afaf1906-722f-41cc-a796-326902f65f4e",
   "metadata": {},
   "outputs": [],
   "source": [
    "\n",
    "#imports\n",
    "import praw\n",
    "import csv\n",
    "import os\n",
    "import time\n",
    "import pandas as pd\n",
    "from datetime import datetime\n"
   ]
  },
  {
   "cell_type": "code",
   "execution_count": 6,
   "id": "845f4f0f-eda6-407f-a43d-6096a0523cc5",
   "metadata": {},
   "outputs": [],
   "source": [
    "\n",
    "reddit = praw.Reddit()\n"
   ]
  },
  {
   "cell_type": "code",
   "execution_count": 7,
   "id": "32415efc-7a82-4a28-a5d1-34c1597097ed",
   "metadata": {},
   "outputs": [
    {
     "name": "stdout",
     "output_type": "stream",
     "text": [
      "Collected 50 new unique posts.\n"
     ]
    }
   ],
   "source": [
    "\n",
    "# scrape reddit posts\n",
    "subreddit = reddit.subreddit('travel')\n",
    "#csv file\n",
    "current_time = datetime.now()\n",
    "csv_file = \"travel_subreddit_cleaned_post.csv\"\n",
    "file_path = os.path.join(\"../data\", csv_file)\n",
    "\n",
    "print(file_path)\n",
    "# Load existing data\n",
    "if os.path.exists(csv_file):\n",
    "    existing_data = pd.read_csv(csv_file)\n",
    "    existing_created_utc = set(existing_data[\"created_utc\"])  \n",
    "else:\n",
    "    existing_created_utc = set()\n",
    "\n",
    "# Collect new posts (only unique posts based on created_utc)\n",
    "travel = []\n",
    "for post in subreddit.top(limit=50):\n",
    "    if post.created_utc not in existing_created_utc:  \n",
    "        travel.append([post.id, post.created_utc, post.title, post.author, post.selftext, \n",
    "                       post.num_comments, post.score, post.subreddit])\n",
    "        existing_created_utc.add(post.created_utc)  \n",
    "\n",
    "# save as dataframe\n",
    "travel_df = pd.DataFrame(travel, columns=['id', 'created_utc', 'title', 'author', 'selftext',\n",
    "                                          'num_comments', 'score', 'subreddit'])\n",
    "# Append new data to the CSV\n",
    "if not travel_df.empty:\n",
    "    travel_df.to_csv(csv_file, mode=\"a\", header=not os.path.exists(csv_file), index=False)\n",
    "\n",
    "print(f\"Collected {len(travel_df)} new unique posts.\")\n",
    "\n"
   ]
  },
  {
   "cell_type": "code",
   "execution_count": 4,
   "id": "72f5c17e-1c09-42a5-970e-1eeb3983d050",
   "metadata": {},
   "outputs": [],
   "source": []
  },
  {
   "cell_type": "code",
   "execution_count": null,
   "id": "412a13fe-b57e-4a02-a244-fcc4abcc43ac",
   "metadata": {},
   "outputs": [],
   "source": []
  },
  {
   "cell_type": "code",
   "execution_count": null,
   "id": "a55fba9a-7160-4497-a008-aedc64c263f0",
   "metadata": {},
   "outputs": [],
   "source": []
  }
 ],
 "metadata": {
  "kernelspec": {
   "display_name": "Python 3 (ipykernel)",
   "language": "python",
   "name": "python3"
  },
  "language_info": {
   "codemirror_mode": {
    "name": "ipython",
    "version": 3
   },
   "file_extension": ".py",
   "mimetype": "text/x-python",
   "name": "python",
   "nbconvert_exporter": "python",
   "pygments_lexer": "ipython3",
   "version": "3.12.7"
  }
 },
 "nbformat": 4,
 "nbformat_minor": 5
}
